{
  "metadata": {
    "language_info": {
      "codemirror_mode": {
        "name": "python",
        "version": 3
      },
      "file_extension": ".py",
      "mimetype": "text/x-python",
      "name": "python",
      "nbconvert_exporter": "python",
      "pygments_lexer": "ipython3",
      "version": "3.8"
    },
    "kernelspec": {
      "name": "python",
      "display_name": "Pyolite",
      "language": "python"
    }
  },
  "nbformat_minor": 4,
  "nbformat": 4,
  "cells": [
    {
      "cell_type": "markdown",
      "source": "# DataScience Ecosystem",
      "metadata": {
        "tags": []
      }
    },
    {
      "cell_type": "markdown",
      "source": "In this notebook, Data Science Tools and Ecosystem are summarized",
      "metadata": {
        "tags": []
      }
    },
    {
      "cell_type": "markdown",
      "source": "<b>objectives:</b> \n* List of populer language for data scientist\n* List of libraries used by data scientist\n* List of development environment open source tools used by data scientist\n* Example of arithmatic expression",
      "metadata": {}
    },
    {
      "cell_type": "markdown",
      "source": "Some of the populer language that datascientist use are\n1. Java \n2. python \n3. C++ \n4. VB",
      "metadata": {}
    },
    {
      "cell_type": "markdown",
      "source": "some of commenly used libraries used by data scientists include\n1. Numpy- Use to apply mathematical functions \n2. The Matplotlib- Library for data visualization \n3. Seaborn- High-level visualization library \n4. Scikit- Machine learning \n5. Keras- For building deep learning models \n6. Pytorch  \n7. Apache Spark \n8. tenserFlow \n9. ggplot2",
      "metadata": {}
    },
    {
      "cell_type": "markdown",
      "source": "|Data Science Tool|\n|-------------------|\n|Jupyter Notebook|\n|RStudio|\n|Apache spark| \n|Spyder| \n|Ray| \n|KNIME|",
      "metadata": {}
    },
    {
      "cell_type": "markdown",
      "source": "### Below are a few examples of evaluating arithamtic expressions in Python",
      "metadata": {}
    },
    {
      "cell_type": "code",
      "source": "# This is simple aruthmetic expression to multiply then add integers\n(3*4)+5",
      "metadata": {
        "trusted": true
      },
      "execution_count": 8,
      "outputs": [
        {
          "execution_count": 8,
          "output_type": "execute_result",
          "data": {
            "text/plain": "17"
          },
          "metadata": {}
        }
      ]
    },
    {
      "cell_type": "code",
      "source": "# This will convert 200 minutes to hours by dividind by 60\nmint=200\nhours= mint/60\nprint(hours)",
      "metadata": {
        "trusted": true
      },
      "execution_count": 9,
      "outputs": [
        {
          "name": "stdout",
          "text": "3.3333333333333335\n",
          "output_type": "stream"
        }
      ]
    },
    {
      "cell_type": "markdown",
      "source": "## Author  \nPushpa Singh",
      "metadata": {}
    },
    {
      "cell_type": "code",
      "source": "",
      "metadata": {},
      "execution_count": null,
      "outputs": []
    }
  ]
}